{
 "cells": [
  {
   "cell_type": "code",
   "execution_count": 1,
   "id": "0921f44f",
   "metadata": {},
   "outputs": [],
   "source": [
    "# Mycelial Growth Simulation\n",
    "\n",
    "# This notebook runs the mycelial growth simulation and visualizes the results.\n"
   ]
  },
  {
   "cell_type": "code",
   "execution_count": null,
   "id": "8412acfd",
   "metadata": {},
   "outputs": [
    {
     "name": "stdout",
     "output_type": "stream",
     "text": [
      "Time(hr) | Tips | Pullers | Density(μm) | % Saturation | Mergers\n",
      "--------------------------------------------------------\n",
      "   0.0 |  1.0 |     0.3 |        0.0 |   0.0% |      0\n",
      "  50.0 |   24 |       7 |      134.4 |   7.9% |     26\n",
      " 100.0 |   49 |      14 |      274.4 |  16.1% |     51\n",
      " 150.0 |   74 |      22 |      414.4 |  24.4% |     75\n",
      " 200.0 |   98 |      29 |      548.8 |  32.3% |    101\n",
      " 250.0 |  125 |      37 |      700.0 |  41.2% |    123\n",
      " 300.0 |  145 |      43 |      812.0 |  47.8% |    152\n",
      " 350.0 |  167 |      50 |      935.2 |  55.0% |    179\n",
      " 400.0 |  192 |      57 |     1075.2 |  63.2% |    204\n",
      " 450.0 |  214 |      64 |     1198.4 |  70.5% |    231\n",
      " 500.0 |  241 |      72 |     1349.6 |  79.4% |    253\n",
      " 550.0 |  272 |      81 |     1523.2 |  89.6% |    272\n",
      " 600.0 |  298 |      89 |     1668.8 |  98.2% |    295\n",
      " 650.0 |  320 |      96 |     1700.0 | 100.0% |    322\n",
      " 700.0 |  342 |     102 |     1700.0 | 100.0% |    350\n",
      " 750.0 |  372 |     111 |     1700.0 | 100.0% |    369\n",
      " 800.0 |  403 |     120 |     1700.0 | 100.0% |    387\n",
      " 850.0 |  432 |     129 |     1700.0 | 100.0% |    407\n",
      " 900.0 |  460 |     138 |     1700.0 | 100.0% |    429\n",
      " 950.0 |  486 |     145 |     1700.0 | 100.0% |    452\n",
      "1000.0 |  517 |     155 |     1700.0 | 100.0% |    470\n",
      "Total iterations: 100001\n"
     ]
    },
    {
     "data": {
      "image/png": "[encoded data removed]",
      "text/plain": [
       "<Figure size 600x600 with 1 Axes>"
      ]
     },
     "metadata": {},
     "output_type": "display_data"
    }
   ],
   "source": [
    "# Import necessary modules\n",
    "from mycelial_growth import MycelialNetwork\n",
    "import numpy as np\n",
    "import plotting\n",
    "import matplotlib.pyplot as plt\n",
    "import matplotlib.animation as animation\n",
    "import os\n",
    "\n",
    "# Initialize the simulation\n",
    "total_time = 1000  # Total simulation time in hours\n",
    "plot_interval = 50  # Plot every n hours\n",
    "num_iterations = int(total_time / plot_interval)  # Number of iterations\n",
    "\n",
    "# Create an instance of the MycelialNetwork class\n",
    "model = MycelialNetwork(total_time=total_time, plot_interval=plot_interval)\n",
    "\n",
    "# Run the simulation\n",
    "print(\"Time(hr) | Tips | Pullers | Density(μm) | % Saturation | Mergers\")\n",
    "print(\"--------------------------------------------------------\")\n",
    "model.print_status(0)  # Initial state\n",
    "\n",
    "# Run the simulation loop\n",
    "iteration_count = 0\n",
    "while model.time < total_time:\n",
    "    model.update()\n",
    "    iteration_count += 1\n",
    "    # Print and plot at regular intervals\n",
    "    if abs(model.time % plot_interval) < model.Δt:\n",
    "        model.print_status(int(model.time))\n",
    "        plotting.plot_network(model.time_series, model.tips_series, model.ρ_series, model.tip_positions, model.output_dir, int(model.time), model.time, model.ρ_sat)\n",
    "\n",
    "# Print the number of iterations\n",
    "print(f\"Total iterations: {iteration_count}\")\n",
    "\n",
    "# Plot the final results\n",
    "plotting.plot_mycelial_network(model.time_series, model.tips_series, model.ρ_series, model.tip_positions, model.output_dir, model.total_time)\n",
    "\n",
    "# Create an animation of the mycelial network growth\n",
    "fig, ax = plt.subplots(figsize=(6, 6))\n",
    "\n",
    "def update_plot(frame):\n",
    "    ax.clear()\n",
    "    time_index = frame * plot_interval\n",
    "    if time_index >= len(model.time_series):\n",
    "        time_index = len(model.time_series) - 1\n",
    "    time = model.time_series[time_index]\n",
    "    tip_positions = model.tip_positions\n",
    "    rho = model.ρ_series[time_index]\n",
    "\n",
    "    # Debug print\n",
    "    print(f\"Animating frame {frame} at time {time:.1f} hr with {len(tip_positions)} tips\")\n",
    "\n",
    "    # Plot tips at their actual positions\n",
    "    ax.scatter(tip_positions[:, 0], tip_positions[:, 1], color='blue', label='Tips', s=5)\n",
    "\n",
    "    # Plot hyphal density as a background color\n",
    "    density_background = np.full((100, 100), rho / model.ρ_sat)\n",
    "    ax.imshow(density_background, extent=(-10, 10, -10, 10), cmap='Greens', alpha=0.5)\n",
    "\n",
    "    # Draw connections between merged tips\n",
    "    if len(tip_positions) > 1:\n",
    "        dist_matrix = np.linalg.norm(\n",
    "            tip_positions[:, None] - tip_positions[None, :],\n",
    "            axis=-1\n",
    "        )\n",
    "        # Show connections within merge distance\n",
    "        for i in range(len(tip_positions)):\n",
    "            for j in range(i + 1, len(tip_positions)):\n",
    "                if dist_matrix[i, j] < 1.5:  # Slightly larger than merge distance for visibility\n",
    "                    ax.plot([tip_positions[i, 0], tip_positions[j, 0]],\n",
    "                            [tip_positions[i, 1], tip_positions[j, 1]],\n",
    "                            'g-', alpha=0.3, linewidth=0.5)\n",
    "\n",
    "    ax.set_title(f'Mycelial Network at t={time:.1f} hr')\n",
    "    ax.set_xlim(-10, 10)\n",
    "    ax.set_ylim(-10, 10)\n",
    "    ax.set_xlabel('X Position')\n",
    "    ax.set_ylabel('Y Position')\n",
    "    ax.legend()\n",
    "\n",
    "ani = animation.FuncAnimation(fig, update_plot, frames=int(total_time / plot_interval), repeat=False)\n",
    "plt.show()\n"
   ]
  }
 ],
 "metadata": {
  "kernelspec": {
   "display_name": "myenv",
   "language": "python",
   "name": "python3"
  },
  "language_info": {
   "codemirror_mode": {
    "name": "ipython",
    "version": 3
   },
   "file_extension": ".py",
   "mimetype": "text/x-python",
   "name": "python",
   "nbconvert_exporter": "python",
   "pygments_lexer": "ipython3",
   "version": "3.8.19"
  }
 },
 "nbformat": 4,
 "nbformat_minor": 5
}
