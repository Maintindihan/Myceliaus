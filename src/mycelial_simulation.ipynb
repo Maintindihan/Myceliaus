{
 "cells": [
  {
   "cell_type": "code",
   "execution_count": 1,
   "id": "0921f44f",
   "metadata": {},
   "outputs": [],
   "source": [
    "# Mycelial Growth Simulation\n",
    "\n",
    "# This notebook runs the mycelial growth simulation and visualizes the results.\n"
   ]
  },
  {
   "cell_type": "code",
   "execution_count": 2,
   "id": "8412acfd",
   "metadata": {},
   "outputs": [
    {
     "name": "stdout",
     "output_type": "stream",
     "text": [
      "Time(hr) | Tips | Pullers | Density(μm) | % Saturation | Mergers\n",
      "--------------------------------------------------------\n",
      "   0.0 |  1.0 |     0.3 |        0.0 |   0.0% |      0\n",
      "  50.0 |   24 |       7 |      134.4 |   7.9% |     26\n"
     ]
    },
    {
     "ename": "TypeError",
     "evalue": "plot_mycelial_network() takes 6 positional arguments but 8 were given",
     "output_type": "error",
     "traceback": [
      "\u001b[1;31m---------------------------------------------------------------------------\u001b[0m",
      "\u001b[1;31mTypeError\u001b[0m                                 Traceback (most recent call last)",
      "Cell \u001b[1;32mIn[2], line 30\u001b[0m\n\u001b[0;32m     28\u001b[0m     \u001b[38;5;28;01mif\u001b[39;00m \u001b[38;5;28mabs\u001b[39m(model\u001b[38;5;241m.\u001b[39mtime \u001b[38;5;241m%\u001b[39m plot_interval) \u001b[38;5;241m<\u001b[39m model\u001b[38;5;241m.\u001b[39mΔt:\n\u001b[0;32m     29\u001b[0m         model\u001b[38;5;241m.\u001b[39mprint_status(\u001b[38;5;28mint\u001b[39m(model\u001b[38;5;241m.\u001b[39mtime))\n\u001b[1;32m---> 30\u001b[0m         \u001b[43mplotting\u001b[49m\u001b[38;5;241;43m.\u001b[39;49m\u001b[43mplot_mycelial_network\u001b[49m\u001b[43m(\u001b[49m\u001b[43mmodel\u001b[49m\u001b[38;5;241;43m.\u001b[39;49m\u001b[43mtime_series\u001b[49m\u001b[43m,\u001b[49m\u001b[43m \u001b[49m\u001b[43mmodel\u001b[49m\u001b[38;5;241;43m.\u001b[39;49m\u001b[43mtips_series\u001b[49m\u001b[43m,\u001b[49m\u001b[43m \u001b[49m\u001b[43mmodel\u001b[49m\u001b[38;5;241;43m.\u001b[39;49m\u001b[43mρ_series\u001b[49m\u001b[43m,\u001b[49m\u001b[43m \u001b[49m\u001b[43mmodel\u001b[49m\u001b[38;5;241;43m.\u001b[39;49m\u001b[43mtip_positions\u001b[49m\u001b[43m,\u001b[49m\u001b[43m \u001b[49m\u001b[43mmodel\u001b[49m\u001b[38;5;241;43m.\u001b[39;49m\u001b[43moutput_dir\u001b[49m\u001b[43m,\u001b[49m\u001b[43m \u001b[49m\u001b[38;5;28;43mint\u001b[39;49m\u001b[43m(\u001b[49m\u001b[43mmodel\u001b[49m\u001b[38;5;241;43m.\u001b[39;49m\u001b[43mtime\u001b[49m\u001b[43m)\u001b[49m\u001b[43m,\u001b[49m\u001b[43m \u001b[49m\u001b[43mmodel\u001b[49m\u001b[38;5;241;43m.\u001b[39;49m\u001b[43mtime\u001b[49m\u001b[43m,\u001b[49m\u001b[43m \u001b[49m\u001b[43mmodel\u001b[49m\u001b[38;5;241;43m.\u001b[39;49m\u001b[43mρ_sat\u001b[49m\u001b[43m)\u001b[49m\n\u001b[0;32m     32\u001b[0m \u001b[38;5;66;03m# Print the number of iterations\u001b[39;00m\n\u001b[0;32m     33\u001b[0m \u001b[38;5;28mprint\u001b[39m(\u001b[38;5;124mf\u001b[39m\u001b[38;5;124m\"\u001b[39m\u001b[38;5;124mTotal iterations: \u001b[39m\u001b[38;5;132;01m{\u001b[39;00miteration_count\u001b[38;5;132;01m}\u001b[39;00m\u001b[38;5;124m\"\u001b[39m)\n",
      "\u001b[1;31mTypeError\u001b[0m: plot_mycelial_network() takes 6 positional arguments but 8 were given"
     ]
    }
   ],
   "source": [
    "# Import necessary modules\n",
    "from mycelial_growth import MycelialNetwork\n",
    "import numpy as np\n",
    "import plotting\n",
    "import matplotlib.pyplot as plt\n",
    "import matplotlib.animation as animation\n",
    "import os\n",
    "\n",
    "# Initialize the simulation\n",
    "total_time = 1000  # Total simulation time in hours\n",
    "plot_interval = 50  # Plot every n hours\n",
    "num_iterations = int(total_time / plot_interval)  # Number of iterations\n",
    "\n",
    "# Create an instance of the MycelialNetwork class\n",
    "model = MycelialNetwork(total_time=total_time, plot_interval=plot_interval)\n",
    "\n",
    "# Run the simulation\n",
    "print(\"Time(hr) | Tips | Pullers | Density(μm) | % Saturation | Mergers\")\n",
    "print(\"--------------------------------------------------------\")\n",
    "model.print_status(0)  # Initial state\n",
    "\n",
    "# Run the simulation loop\n",
    "iteration_count = 0\n",
    "while model.time < total_time:\n",
    "    model.update()\n",
    "    iteration_count += 1\n",
    "    # Print and plot at regular intervals\n",
    "    if abs(model.time % plot_interval) < model.Δt:\n",
    "        model.print_status(int(model.time))\n",
    "        plotting.plot_mycelial_network(model.time_series, model.tips_series, model.ρ_series, model.tip_positions, model.output_dir, int(model.time), model.time, model.ρ_sat)\n",
    "\n",
    "# Print the number of iterations\n",
    "print(f\"Total iterations: {iteration_count}\")\n",
    "\n",
    "# Plot the final results\n",
    "plotting.plot_mycelial_network(model.time_series, model.tips_series, model.ρ_series, model.tip_positions, model.output_dir, model.total_time)\n",
    "\n",
    "# Create an animation of the mycelial network growth\n",
    "fig, ax = plt.subplots(figsize=(6, 6))\n",
    "\n",
    "def update_plot(frame):\n",
    "    ax.clear()\n",
    "    time_index = frame * plot_interval\n",
    "    if time_index >= len(model.time_series):\n",
    "        time_index = len(model.time_series) - 1\n",
    "    time = model.time_series[time_index]\n",
    "    tip_positions = model.tip_positions\n",
    "    rho = model.ρ_series[time_index]\n",
    "\n",
    "    # Debug print\n",
    "    print(f\"Animating frame {frame} at time {time:.1f} hr with {len(tip_positions)} tips\")\n",
    "\n",
    "    # Plot tips at their actual positions\n",
    "    ax.scatter(tip_positions[:, 0], tip_positions[:, 1], color='blue', label='Tips', s=5)\n",
    "\n",
    "    # Plot hyphal density as a background color\n",
    "    density_background = np.full((100, 100), rho / model.ρ_sat)\n",
    "    ax.imshow(density_background, extent=(-10, 10, -10, 10), cmap='Greens', alpha=0.5)\n",
    "\n",
    "    # Draw connections between merged tips\n",
    "    if len(tip_positions) > 1:\n",
    "        dist_matrix = np.linalg.norm(\n",
    "            tip_positions[:, None] - tip_positions[None, :],\n",
    "            axis=-1\n",
    "        )\n",
    "        # Show connections within merge distance\n",
    "        for i in range(len(tip_positions)):\n",
    "            for j in range(i + 1, len(tip_positions)):\n",
    "                if dist_matrix[i, j] < 1.5:  # Slightly larger than merge distance for visibility\n",
    "                    ax.plot([tip_positions[i, 0], tip_positions[j, 0]],\n",
    "                            [tip_positions[i, 1], tip_positions[j, 1]],\n",
    "                            'g-', alpha=0.3, linewidth=0.5)\n",
    "\n",
    "    ax.set_title(f'Mycelial Network at t={time:.1f} hr')\n",
    "    ax.set_xlim(-10, 10)\n",
    "    ax.set_ylim(-10, 10)\n",
    "    ax.set_xlabel('X Position')\n",
    "    ax.set_ylabel('Y Position')\n",
    "    ax.legend()\n",
    "\n",
    "ani = animation.FuncAnimation(fig, update_plot, frames=int(total_time / plot_interval), repeat=False)\n",
    "plt.show()\n"
   ]
  }
 ],
 "metadata": {
  "kernelspec": {
   "display_name": "myenv",
   "language": "python",
   "name": "python3"
  },
  "language_info": {
   "codemirror_mode": {
    "name": "ipython",
    "version": 3
   },
   "file_extension": ".py",
   "mimetype": "text/x-python",
   "name": "python",
   "nbconvert_exporter": "python",
   "pygments_lexer": "ipython3",
   "version": "3.8.19"
  }
 },
 "nbformat": 4,
 "nbformat_minor": 5
}
