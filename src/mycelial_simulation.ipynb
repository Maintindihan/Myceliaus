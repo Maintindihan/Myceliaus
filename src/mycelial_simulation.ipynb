{
 "cells": [
  {
   "cell_type": "code",
   "execution_count": 1,
   "id": "0921f44f",
   "metadata": {},
   "outputs": [],
   "source": [
    "# Mycelial Growth Simulation\n",
    "\n",
    "# This notebook runs the mycelial growth simulation and visualizes the results.\n"
   ]
  },
  {
   "cell_type": "code",
   "execution_count": 2,
   "id": "8412acfd",
   "metadata": {},
   "outputs": [
    {
     "name": "stdout",
     "output_type": "stream",
     "text": [
      "Time(hr) | Tips | Pullers | Density(μm) | % Saturation | Mergers\n",
      "--------------------------------------------------------\n",
      "   0.0 |  1.0 |     0.3 |        0.0 |   0.0% |      0\n",
      "  50.0 |   28 |       8 |      156.8 |   9.2% |     22\n",
      " 100.0 |   54 |      16 |      302.4 |  17.8% |     46\n",
      " 150.0 |   77 |      23 |      431.2 |  25.4% |     72\n",
      " 200.0 |  101 |      30 |      565.6 |  33.3% |     97\n",
      " 250.0 |  125 |      37 |      700.0 |  41.2% |    123\n",
      " 300.0 |  156 |      46 |      873.6 |  51.4% |    141\n",
      " 350.0 |  178 |      53 |      996.8 |  58.6% |    168\n",
      " 400.0 |  211 |      63 |     1181.6 |  69.5% |    185\n",
      " 450.0 |  231 |      69 |     1293.6 |  76.1% |    214\n",
      " 500.0 |  251 |      75 |     1405.6 |  82.7% |    243\n",
      " 550.0 |  278 |      83 |     1556.8 |  91.6% |    266\n",
      " 600.0 |  305 |      91 |     1700.0 | 100.0% |    288\n",
      " 650.0 |  331 |      99 |     1700.0 | 100.0% |    311\n",
      " 700.0 |  354 |     106 |     1700.0 | 100.0% |    338\n",
      " 750.0 |  380 |     114 |     1700.0 | 100.0% |    361\n",
      " 800.0 |  405 |     121 |     1700.0 | 100.0% |    385\n",
      " 850.0 |  426 |     127 |     1700.0 | 100.0% |    413\n",
      " 900.0 |  455 |     136 |     1700.0 | 100.0% |    434\n",
      " 950.0 |  474 |     142 |     1700.0 | 100.0% |    464\n",
      "1000.0 |  505 |     151 |     1700.0 | 100.0% |    482\n",
      "Total iterations: 100001\n"
     ]
    }
   ],
   "source": [
    "# Import necessary modules\n",
    "from mycelial_growth import MycelialNetwork\n",
    "import numpy as np\n",
    "import simulation \n",
    "import matplotlib.pyplot as plt\n",
    "\n",
    "\n",
    "# Initialize the simulation\n",
    "total_time = 1000  # Total simulation time in hours\n",
    "plot_interval = 50  # Plot every n hours\n",
    "num_iterations = int(total_time / plot_interval)  # Number of iterations\n",
    "\n",
    "# Create an instance of the MycelialNetwork class\n",
    "model = MycelialNetwork(total_time=total_time, plot_interval=plot_interval)\n",
    "\n",
    "# Run the simulation\n",
    "print(\"Time(hr) | Tips | Pullers | Density(μm) | % Saturation | Mergers\")\n",
    "print(\"--------------------------------------------------------\")\n",
    "model.print_status(0)  # Initial state\n",
    "\n",
    "# Run the simulation loop\n",
    "iteration_count = 0\n",
    "while model.time < total_time:\n",
    "    model.update()\n",
    "    iteration_count += 1\n",
    "    # Print and plot at regular intervals\n",
    "    if abs(model.time % plot_interval) < model.Δt:\n",
    "        model.print_status(int(model.time))\n",
    "        # plotting.plot_network(model.time_series, model.tips_series, model.ρ_series, model.tip_positions, model.output_dir, int(model.time), model.time, model.ρ_sat)\n",
    "\n",
    "# Print the number of iterations\n",
    "print(f\"Total iterations: {iteration_count}\")\n",
    "\n",
    "# Plot the final results\n",
    "# plotting.plot_mycelial_network(model.time_series, model.tips_series, model.ρ_series, model.tip_positions, model.output_dir, model.total_time)\n"
   ]
  }
 ],
 "metadata": {
  "kernelspec": {
   "display_name": "myenv",
   "language": "python",
   "name": "python3"
  },
  "language_info": {
   "codemirror_mode": {
    "name": "ipython",
    "version": 3
   },
   "file_extension": ".py",
   "mimetype": "text/x-python",
   "name": "python",
   "nbconvert_exporter": "python",
   "pygments_lexer": "ipython3",
   "version": "3.8.19"
  }
 },
 "nbformat": 4,
 "nbformat_minor": 5
}
