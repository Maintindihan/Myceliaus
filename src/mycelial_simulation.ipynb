{
 "cells": [
  {
   "cell_type": "code",
   "execution_count": 1,
   "id": "0921f44f",
   "metadata": {},
   "outputs": [],
   "source": [
    "# Mycelial Growth Simulation\n",
    "\n",
    "# This notebook runs the mycelial growth simulation and visualizes the results.\n"
   ]
  },
  {
   "cell_type": "code",
   "execution_count": null,
   "id": "8412acfd",
   "metadata": {},
   "outputs": [
    {
     "name": "stdout",
     "output_type": "stream",
     "text": [
      "Time(hr) | Tips | Pullers | Density(μm) | % Saturation | Mergers\n",
      "--------------------------------------------------------\n",
      "   0.0 |  1.0 |     0.3 |        0.0 |   0.0% |      0\n"
     ]
    }
   ],
   "source": [
    "# Import necessary modules\n",
    "from mycelial_growth import MycelialNetwork\n",
    "import simulation\n",
    "import os\n",
    "\n",
    "# Initialize the simulation\n",
    "total_time = 1000  # Total simulation time in hours\n",
    "plot_interval = 5  # Plot every 5 hours\n",
    "num_iterations = int(total_time / plot_interval)  # Number of iterations\n",
    "\n",
    "# Create an instance of the MycelialNetwork class\n",
    "model = MycelialNetwork(total_time=total_time, plot_interval=plot_interval)\n",
    "\n",
    "# Run the simulation\n",
    "print(\"Time(hr) | Tips | Pullers | Density(μm) | % Saturation | Mergers\")\n",
    "print(\"--------------------------------------------------------\")\n",
    "model.print_status(0)  # Initial state\n",
    "\n",
    "for _ in range(num_iterations):\n",
    "    model.update()\n",
    "    # Print and plot at regular intervals\n",
    "    if abs(model.time % plot_interval) < model.Δt:\n",
    "        model.print_status(int(model.time))\n",
    "        simulation.plot_network(model.time_series, model.tips_series, model.ρ_series, model.tip_positions, model.output_dir, int(model.time), model.time, model.ρ_sat)\n",
    "\n",
    "# Plot the final results\n",
    "simulation.plot_mycelial_network(model.time_series, model.tips_series, model.ρ_series, model.tip_positions, model.output_dir, model.total_time)\n"
   ]
  }
 ],
 "metadata": {
  "kernelspec": {
   "display_name": "myenv",
   "language": "python",
   "name": "python3"
  },
  "language_info": {
   "codemirror_mode": {
    "name": "ipython",
    "version": 3
   },
   "file_extension": ".py",
   "mimetype": "text/x-python",
   "name": "python",
   "nbconvert_exporter": "python",
   "pygments_lexer": "ipython3",
   "version": "3.8.19"
  }
 },
 "nbformat": 4,
 "nbformat_minor": 5
}
